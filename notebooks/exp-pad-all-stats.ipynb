{
 "cells": [
  {
   "cell_type": "code",
   "execution_count": 17,
   "id": "9503680e",
   "metadata": {},
   "outputs": [],
   "source": [
    "import process_helper as proc\n",
    "import pandas as pd\n",
    "import os\n",
    "import glob\n",
    "import matplotlib.pyplot as plt\n",
    "\n",
    "pd.set_option('display.max_rows', None)\n",
    "EXP_TYPE = 'pad'\n",
    "\n",
    "\n",
    "subdir_pattern = '*/*/eval.csv'  # This example finds all .txt files in all subdirectories\n",
    "\n",
    "list_of_root_dirs_by_augment_degree = proc.generate_root_dirs_by_experiment_and_augment_degree(\n",
    "    exp_main_folder='exp-' + EXP_TYPE, \n",
    "    exp_name='pendulum_swingup', \n",
    "    agent_null='drqv2_pixels-True', \n",
    "    agent_name='drqv2_' + EXP_TYPE + '_', \n",
    "    min_val=1, \n",
    "    max_val=10, \n",
    "    increment=1)\n",
    "\n",
    "datasets_dict = proc.load_datasets_by_directory(list_of_root_dirs_by_augment_degree, subdir_pattern)"
   ]
  },
  {
   "cell_type": "code",
   "execution_count": 18,
   "id": "a689d748",
   "metadata": {},
   "outputs": [
    {
     "name": "stdout",
     "output_type": "stream",
     "text": [
      "/Users/victor/Documents/python-projects/smart-rl/exp-pad/exp/pendulum_swingup/drqv2_pixels-True  :  10\n",
      "/Users/victor/Documents/python-projects/smart-rl/exp-pad/exp/pendulum_swingup/drqv2_pad_1_pixels-True  :  10\n",
      "/Users/victor/Documents/python-projects/smart-rl/exp-pad/exp/pendulum_swingup/drqv2_pad_2_pixels-True  :  10\n",
      "/Users/victor/Documents/python-projects/smart-rl/exp-pad/exp/pendulum_swingup/drqv2_pad_3_pixels-True  :  10\n",
      "/Users/victor/Documents/python-projects/smart-rl/exp-pad/exp/pendulum_swingup/drqv2_pad_4_pixels-True  :  10\n",
      "/Users/victor/Documents/python-projects/smart-rl/exp-pad/exp/pendulum_swingup/drqv2_pad_5_pixels-True  :  9\n",
      "/Users/victor/Documents/python-projects/smart-rl/exp-pad/exp/pendulum_swingup/drqv2_pad_6_pixels-True  :  9\n",
      "/Users/victor/Documents/python-projects/smart-rl/exp-pad/exp/pendulum_swingup/drqv2_pad_7_pixels-True  :  10\n",
      "/Users/victor/Documents/python-projects/smart-rl/exp-pad/exp/pendulum_swingup/drqv2_pad_8_pixels-True  :  9\n",
      "/Users/victor/Documents/python-projects/smart-rl/exp-pad/exp/pendulum_swingup/drqv2_pad_9_pixels-True  :  10\n",
      "/Users/victor/Documents/python-projects/smart-rl/exp-pad/exp/pendulum_swingup/drqv2_pad_10_pixels-True  :  9\n"
     ]
    }
   ],
   "source": [
    "for root_directory in list_of_root_dirs_by_augment_degree:\n",
    "    print(root_directory, ' : ' ,len(datasets_dict[root_directory]))\n",
    "    "
   ]
  },
  {
   "cell_type": "code",
   "execution_count": 19,
   "id": "eb97ed77",
   "metadata": {},
   "outputs": [
    {
     "name": "stdout",
     "output_type": "stream",
     "text": [
      "/Users/victor/Documents/python-projects/smart-rl/exp-pad/exp/pendulum_swingup/drqv2_pixels-True\n"
     ]
    }
   ],
   "source": [
    "print(list_of_root_dirs_by_augment_degree[0])\n",
    "\n",
    "# column_name = 'episode_reward'\n",
    "# result_stats = proc.row_wise_stats(datasets_dict[list_of_root_dirs_by_augment_degree[0]], column_name)\n",
    "# print(result_stats)\n",
    "\n",
    "column_name = 'episode_reward'\n",
    "result_stats = proc.generate_stats_for_directories(list_of_root_dirs_by_augment_degree, datasets_dict, column_name)\n",
    "# print(result_stats)\n",
    "\n"
   ]
  },
  {
   "cell_type": "code",
   "execution_count": 20,
   "id": "3ccbac42",
   "metadata": {},
   "outputs": [
    {
     "name": "stdout",
     "output_type": "stream",
     "text": [
      "Directory: /Users/victor/Documents/python-projects/smart-rl/exp-pad/exp/pendulum_swingup/drqv2_pad_5_pixels-True\n",
      "Sum Statistics: {'Sum Min': 60554.700000000004, 'Sum Max': 90982.79999999999, 'Sum Mean': 77050.04444444446}\n",
      "\n",
      "Directory: /Users/victor/Documents/python-projects/smart-rl/exp-pad/exp/pendulum_swingup/drqv2_pad_4_pixels-True\n",
      "Sum Statistics: {'Sum Min': 38890.30000000001, 'Sum Max': 88796.1, 'Sum Mean': 74282.47}\n",
      "\n",
      "Directory: /Users/victor/Documents/python-projects/smart-rl/exp-pad/exp/pendulum_swingup/drqv2_pad_6_pixels-True\n",
      "Sum Statistics: {'Sum Min': 46590.1, 'Sum Max': 89009.40000000001, 'Sum Mean': 73343.50000000003}\n",
      "\n",
      "Directory: /Users/victor/Documents/python-projects/smart-rl/exp-pad/exp/pendulum_swingup/drqv2_pad_3_pixels-True\n",
      "Sum Statistics: {'Sum Min': 53133.49999999999, 'Sum Max': 88406.49999999997, 'Sum Mean': 71492.54999999999}\n",
      "\n",
      "Directory: /Users/victor/Documents/python-projects/smart-rl/exp-pad/exp/pendulum_swingup/drqv2_pad_7_pixels-True\n",
      "Sum Statistics: {'Sum Min': 44185.9, 'Sum Max': 88725.80000000003, 'Sum Mean': 70847.77}\n",
      "\n",
      "Directory: /Users/victor/Documents/python-projects/smart-rl/exp-pad/exp/pendulum_swingup/drqv2_pad_2_pixels-True\n",
      "Sum Statistics: {'Sum Min': 1048.4, 'Sum Max': 89761.3, 'Sum Mean': 69059.01000000001}\n",
      "\n",
      "Directory: /Users/victor/Documents/python-projects/smart-rl/exp-pad/exp/pendulum_swingup/drqv2_pad_1_pixels-True\n",
      "Sum Statistics: {'Sum Min': 1093.0, 'Sum Max': 89040.90000000001, 'Sum Mean': 68220.14}\n",
      "\n",
      "Directory: /Users/victor/Documents/python-projects/smart-rl/exp-pad/exp/pendulum_swingup/drqv2_pad_10_pixels-True\n",
      "Sum Statistics: {'Sum Min': 1043.5, 'Sum Max': 83300.7, 'Sum Mean': 62545.44444444444}\n",
      "\n",
      "Directory: /Users/victor/Documents/python-projects/smart-rl/exp-pad/exp/pendulum_swingup/drqv2_pad_8_pixels-True\n",
      "Sum Statistics: {'Sum Min': 5479.8, 'Sum Max': 83282.90000000001, 'Sum Mean': 57025.23333333334}\n",
      "\n",
      "Directory: /Users/victor/Documents/python-projects/smart-rl/exp-pad/exp/pendulum_swingup/drqv2_pixels-True\n",
      "Sum Statistics: {'Sum Min': 6064.099999999999, 'Sum Max': 82005.00000000001, 'Sum Mean': 50723.1}\n",
      "\n",
      "Directory: /Users/victor/Documents/python-projects/smart-rl/exp-pad/exp/pendulum_swingup/drqv2_pad_9_pixels-True\n",
      "Sum Statistics: {'Sum Min': 3110.8, 'Sum Max': 87182.90000000001, 'Sum Mean': 45786.02}\n",
      "\n"
     ]
    }
   ],
   "source": [
    "summary_statistics = proc.compute_summary_stats(result_stats)\n",
    "# for key, stats in summary_statistics.items():\n",
    "#     print(f\"Directory: {key}\")\n",
    "#     print(\"Sum Statistics:\", stats['Sum Statistics'])\n",
    "#     print(\"Max Statistics:\", stats['Max Statistics'])\n",
    "    \n",
    "# proc.print_sorted_by_max_mean(summary_statistics, stats_type='Max Statistics', stats_key='Max Min')\n",
    "# 6, 5 ,4\n",
    "\n",
    "# proc.print_sorted_by_max_mean(summary_statistics, stats_type='Max Statistics', stats_key='Max Max')\n",
    "# 5, 4, 9\n",
    "\n",
    "# proc.print_sorted_by_max_mean(summary_statistics, stats_type='Max Statistics', stats_key='Max Mean')\n",
    "# 6, 5, 3\n",
    "\n",
    "# proc.print_sorted_by_max_mean(summary_statistics, stats_type='Sum Statistics', stats_key='Sum Min')\n",
    "# 5, 3, 6\n",
    "\n",
    "# proc.print_sorted_by_max_mean(summary_statistics, stats_type='Sum Statistics', stats_key='Sum Max')\n",
    "# 5, 2, 1\n",
    "\n",
    "proc.print_sorted_by_max_mean(summary_statistics, stats_type='Sum Statistics', stats_key='Sum Mean')\n",
    "# 5, 4, 6"
   ]
  },
  {
   "cell_type": "code",
   "execution_count": null,
   "id": "411f43cb",
   "metadata": {},
   "outputs": [],
   "source": []
  },
  {
   "cell_type": "code",
   "execution_count": null,
   "id": "b9adf3d0",
   "metadata": {},
   "outputs": [],
   "source": []
  }
 ],
 "metadata": {
  "kernelspec": {
   "display_name": "Python 3 (ipykernel)",
   "language": "python",
   "name": "python3"
  },
  "language_info": {
   "codemirror_mode": {
    "name": "ipython",
    "version": 3
   },
   "file_extension": ".py",
   "mimetype": "text/x-python",
   "name": "python",
   "nbconvert_exporter": "python",
   "pygments_lexer": "ipython3",
   "version": "3.9.19"
  }
 },
 "nbformat": 4,
 "nbformat_minor": 5
}
