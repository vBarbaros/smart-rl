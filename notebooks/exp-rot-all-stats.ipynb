{
 "cells": [
  {
   "cell_type": "code",
   "execution_count": 2,
   "id": "9503680e",
   "metadata": {},
   "outputs": [],
   "source": [
    "import process_helper as proc\n",
    "import pandas as pd\n",
    "import os\n",
    "import glob\n",
    "import matplotlib.pyplot as plt\n",
    "\n",
    "pd.set_option('display.max_rows', None)\n",
    "EXP_TYPE = 'rot'\n",
    "EXP_NAME = 'rotate'\n",
    "LIST_VALS = [0.1, 0.2, 0.3]\n",
    "\n",
    "subdir_pattern = '*/*/eval.csv'  # This example finds all .txt files in all subdirectories\n",
    "\n",
    "list_of_root_dirs_by_augment_degree = proc.generate_root_dirs_by_experiment_and_augment_degree_new(\n",
    "    exp_main_folder='exp-' + EXP_TYPE, \n",
    "    exp_name='pendulum_swingup',  \n",
    "    agent_name='drqv2_aug_pixels-True-' + EXP_NAME + '-', \n",
    "    list_vals=LIST_VALS)\n",
    "\n",
    "datasets_dict = proc.load_datasets_by_directory(list_of_root_dirs_by_augment_degree, subdir_pattern, show=False)"
   ]
  },
  {
   "cell_type": "code",
   "execution_count": 3,
   "id": "a689d748",
   "metadata": {},
   "outputs": [
    {
     "name": "stdout",
     "output_type": "stream",
     "text": [
      "/Users/victor/Documents/python-projects/smart-rl/exp-rot/exp/pendulum_swingup/drqv2_aug_pixels-True-rotate-0.1  :  1\n",
      "/Users/victor/Documents/python-projects/smart-rl/exp-rot/exp/pendulum_swingup/drqv2_aug_pixels-True-rotate-0.2  :  1\n",
      "/Users/victor/Documents/python-projects/smart-rl/exp-rot/exp/pendulum_swingup/drqv2_aug_pixels-True-rotate-0.3  :  1\n"
     ]
    }
   ],
   "source": [
    "for root_directory in list_of_root_dirs_by_augment_degree:\n",
    "    print(root_directory, ' : ' ,len(datasets_dict[root_directory]))\n",
    "    "
   ]
  },
  {
   "cell_type": "code",
   "execution_count": 4,
   "id": "eb97ed77",
   "metadata": {},
   "outputs": [
    {
     "name": "stdout",
     "output_type": "stream",
     "text": [
      "/Users/victor/Documents/python-projects/smart-rl/exp-rot/exp/pendulum_swingup/drqv2_aug_pixels-True-rotate-0.1\n"
     ]
    }
   ],
   "source": [
    "print(list_of_root_dirs_by_augment_degree[0])\n",
    "\n",
    "# column_name = 'episode_reward'\n",
    "# result_stats = proc.row_wise_stats(datasets_dict[list_of_root_dirs_by_augment_degree[0]], column_name)\n",
    "# print(result_stats)\n",
    "\n",
    "column_name = 'episode_reward'\n",
    "result_stats = proc.generate_stats_for_directories(list_of_root_dirs_by_augment_degree, datasets_dict, column_name)\n",
    "# print(result_stats)\n",
    "\n"
   ]
  },
  {
   "cell_type": "code",
   "execution_count": 5,
   "id": "3ccbac42",
   "metadata": {},
   "outputs": [
    {
     "name": "stdout",
     "output_type": "stream",
     "text": [
      "Directory: /Users/victor/Documents/python-projects/smart-rl/exp-rot/exp/pendulum_swingup/drqv2_aug_pixels-True-rotate-0.2\n",
      "Sum Statistics: {'Sum Min': 62133.799999999996, 'Sum Max': 62133.799999999996, 'Sum Mean': 62133.799999999996}\n",
      "\n",
      "Directory: /Users/victor/Documents/python-projects/smart-rl/exp-rot/exp/pendulum_swingup/drqv2_aug_pixels-True-rotate-0.3\n",
      "Sum Statistics: {'Sum Min': 60589.6, 'Sum Max': 60589.6, 'Sum Mean': 60589.6}\n",
      "\n",
      "Directory: /Users/victor/Documents/python-projects/smart-rl/exp-rot/exp/pendulum_swingup/drqv2_aug_pixels-True-rotate-0.1\n",
      "Sum Statistics: {'Sum Min': 29473.499999999996, 'Sum Max': 29473.499999999996, 'Sum Mean': 29473.499999999996}\n",
      "\n"
     ]
    }
   ],
   "source": [
    "summary_statistics = proc.compute_summary_stats(result_stats)\n",
    "# for key, stats in summary_statistics.items():\n",
    "#     print(f\"Directory: {key}\")\n",
    "#     print(\"Sum Statistics:\", stats['Sum Statistics'])\n",
    "#     print(\"Max Statistics:\", stats['Max Statistics'])\n",
    "    \n",
    "# proc.print_sorted_by_max_mean(summary_statistics, stats_type='Max Statistics', stats_key='Max Min')\n",
    "# 6, 5 ,4\n",
    "\n",
    "# proc.print_sorted_by_max_mean(summary_statistics, stats_type='Max Statistics', stats_key='Max Max')\n",
    "# 5, 4, 9\n",
    "\n",
    "# proc.print_sorted_by_max_mean(summary_statistics, stats_type='Max Statistics', stats_key='Max Mean')\n",
    "# 6, 5, 3\n",
    "\n",
    "# proc.print_sorted_by_max_mean(summary_statistics, stats_type='Sum Statistics', stats_key='Sum Min')\n",
    "# 5, 3, 6\n",
    "\n",
    "# proc.print_sorted_by_max_mean(summary_statistics, stats_type='Sum Statistics', stats_key='Sum Max')\n",
    "# 5, 2, 1\n",
    "\n",
    "proc.print_sorted_by_max_mean(summary_statistics, stats_type='Sum Statistics', stats_key='Sum Mean')\n",
    "# 5, 4, 6"
   ]
  },
  {
   "cell_type": "code",
   "execution_count": null,
   "id": "411f43cb",
   "metadata": {},
   "outputs": [],
   "source": []
  },
  {
   "cell_type": "code",
   "execution_count": null,
   "id": "da1a2285",
   "metadata": {},
   "outputs": [],
   "source": []
  }
 ],
 "metadata": {
  "kernelspec": {
   "display_name": "Python 3 (ipykernel)",
   "language": "python",
   "name": "python3"
  },
  "language_info": {
   "codemirror_mode": {
    "name": "ipython",
    "version": 3
   },
   "file_extension": ".py",
   "mimetype": "text/x-python",
   "name": "python",
   "nbconvert_exporter": "python",
   "pygments_lexer": "ipython3",
   "version": "3.9.19"
  }
 },
 "nbformat": 4,
 "nbformat_minor": 5
}
