{
 "cells": [
  {
   "cell_type": "markdown",
   "metadata": {},
   "source": [
    "\n",
    "# Scatter plot with histograms\n",
    "\n",
    "Show the marginal distributions of a scatter plot as histograms at the sides of\n",
    "the plot.\n",
    "\n",
    "For a nice alignment of the main axes with the marginals, two options are shown\n",
    "below:\n",
    "\n",
    "While `.Axes.inset_axes` may be a bit more complex, it allows correct handling\n",
    "of main axes with a fixed aspect ratio.\n",
    "\n",
    "An alternative method to produce a similar figure using the ``axes_grid1``\n",
    "toolkit is shown in the :doc:`/gallery/axes_grid1/scatter_hist_locatable_axes`\n",
    "example.  Finally, it is also possible to position all axes in absolute\n",
    "coordinates using `.Figure.add_axes` (not shown here).\n",
    "\n",
    "Let us first define a function that takes x and y data as input, as well\n",
    "as three axes, the main axes for the scatter, and two marginal axes. It will\n",
    "then create the scatter and histograms inside the provided axes.\n"
   ]
  },
  {
   "cell_type": "code",
   "execution_count": 1,
   "metadata": {},
   "outputs": [],
   "source": [
    "import matplotlib.pyplot as plt\n",
    "import numpy as np\n",
    "\n",
    "# Fixing random state for reproducibility\n",
    "np.random.seed(19680801)\n",
    "\n",
    "# some random data\n",
    "x = np.random.randn(1000)\n",
    "y = np.random.randn(1000)\n",
    "\n",
    "\n",
    "def scatter_hist(x, y, ax, ax_histx, ax_histy):\n",
    "    # no labels\n",
    "    ax_histx.tick_params(axis=\"x\", labelbottom=False)\n",
    "    ax_histy.tick_params(axis=\"y\", labelleft=False)\n",
    "\n",
    "    # the scatter plot:\n",
    "    ax.scatter(x, y)\n",
    "\n",
    "    # now determine nice limits by hand:\n",
    "    binwidth = 0.25\n",
    "    xymax = max(np.max(np.abs(x)), np.max(np.abs(y)))\n",
    "    lim = (int(xymax/binwidth) + 1) * binwidth\n",
    "\n",
    "    bins = np.arange(-lim, lim + binwidth, binwidth)\n",
    "    ax_histx.hist(x, bins=bins)\n",
    "    ax_histy.hist(y, bins=bins, orientation='horizontal')"
   ]
  },
  {
   "cell_type": "markdown",
   "metadata": {},
   "source": [
    "## Defining the axes positions using a gridspec\n",
    "\n",
    "We define a gridspec with unequal width- and height-ratios to achieve desired\n",
    "layout.  Also see the `arranging_axes` tutorial.\n",
    "\n"
   ]
  },
  {
   "cell_type": "code",
   "execution_count": 2,
   "metadata": {},
   "outputs": [
    {
     "data": {
      "image/png": "[encoded data removed]",
      "text/plain": [
       "<Figure size 432x432 with 3 Axes>"
      ]
     },
     "metadata": {
      "needs_background": "light"
     },
     "output_type": "display_data"
    }
   ],
   "source": [
    "# Start with a square Figure.\n",
    "fig = plt.figure(figsize=(6, 6))\n",
    "# Add a gridspec with two rows and two columns and a ratio of 1 to 4 between\n",
    "# the size of the marginal axes and the main axes in both directions.\n",
    "# Also adjust the subplot parameters for a square plot.\n",
    "gs = fig.add_gridspec(2, 2,  width_ratios=(4, 1), height_ratios=(1, 4),\n",
    "                      left=0.1, right=0.9, bottom=0.1, top=0.9,\n",
    "                      wspace=0.05, hspace=0.05)\n",
    "# Create the Axes.\n",
    "ax = fig.add_subplot(gs[1, 0])\n",
    "ax_histx = fig.add_subplot(gs[0, 0], sharex=ax)\n",
    "ax_histy = fig.add_subplot(gs[1, 1], sharey=ax)\n",
    "# Draw the scatter plot and marginals.\n",
    "scatter_hist(x, y, ax, ax_histx, ax_histy)"
   ]
  },
  {
   "cell_type": "markdown",
   "metadata": {},
   "source": [
    "## Defining the axes positions using inset_axes\n",
    "\n",
    "`~.Axes.inset_axes` can be used to position marginals *outside* the main\n",
    "axes.  The advantage of doing so is that the aspect ratio of the main axes\n",
    "can be fixed, and the marginals will always be drawn relative to the position\n",
    "of the axes.\n",
    "\n"
   ]
  },
  {
   "cell_type": "code",
   "execution_count": 3,
   "metadata": {},
   "outputs": [
    {
     "data": {
      "image/png": "[encoded data removed]",
      "text/plain": [
       "<Figure size 432x288 with 1 Axes>"
      ]
     },
     "metadata": {
      "needs_background": "light"
     },
     "output_type": "display_data"
    }
   ],
   "source": [
    "# Create a Figure, which doesn't have to be square.\n",
    "fig = plt.figure(layout='constrained')\n",
    "# Create the main axes, leaving 25% of the figure space at the top and on the\n",
    "# right to position marginals.\n",
    "ax = fig.add_gridspec(top=0.75, right=0.75).subplots()\n",
    "# The main axes' aspect can be fixed.\n",
    "ax.set(aspect=1)\n",
    "# Create marginal axes, which have 25% of the size of the main axes.  Note that\n",
    "# the inset axes are positioned *outside* (on the right and the top) of the\n",
    "# main axes, by specifying axes coordinates greater than 1.  Axes coordinates\n",
    "# less than 0 would likewise specify positions on the left and the bottom of\n",
    "# the main axes.\n",
    "ax_histx = ax.inset_axes([0, 1.05, 1, 0.25], sharex=ax)\n",
    "ax_histy = ax.inset_axes([1.05, 0, 0.25, 1], sharey=ax)\n",
    "# Draw the scatter plot and marginals.\n",
    "scatter_hist(x, y, ax, ax_histx, ax_histy)\n",
    "\n",
    "plt.show()"
   ]
  },
  {
   "cell_type": "markdown",
   "metadata": {},
   "source": [
    ".. admonition:: References\n",
    "\n",
    "   The use of the following functions, methods, classes and modules is shown\n",
    "   in this example:\n",
    "\n",
    "   - `matplotlib.figure.Figure.add_subplot`\n",
    "   - `matplotlib.figure.Figure.add_gridspec`\n",
    "   - `matplotlib.axes.Axes.inset_axes`\n",
    "   - `matplotlib.axes.Axes.scatter`\n",
    "   - `matplotlib.axes.Axes.hist`\n",
    "\n"
   ]
  }
 ],
 "metadata": {
  "kernelspec": {
   "display_name": "Python 3 (ipykernel)",
   "language": "python",
   "name": "python3"
  },
  "language_info": {
   "codemirror_mode": {
    "name": "ipython",
    "version": 3
   },
   "file_extension": ".py",
   "mimetype": "text/x-python",
   "name": "python",
   "nbconvert_exporter": "python",
   "pygments_lexer": "ipython3",
   "version": "3.9.19"
  }
 },
 "nbformat": 4,
 "nbformat_minor": 1
}
